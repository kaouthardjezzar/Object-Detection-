{
 "cells": [
  {
   "cell_type": "code",
   "execution_count": null,
   "metadata": {
    "id": "MRjJHxW1yxhR"
   },
   "outputs": [],
   "source": [
    "# download BBBC041 dataset from oficial source\n",
    "# !wget https://data.broadinstitute.org/bbbc/BBBC041/malaria.zip"
   ]
  },
  {
   "cell_type": "code",
   "execution_count": null,
   "metadata": {
    "colab": {
     "base_uri": "https://localhost:8080/"
    },
    "id": "nLbc8H6fGzxj",
    "outputId": "a0da65c5-311f-40b3-b25e-833116ade3f7"
   },
   "outputs": [
    {
     "name": "stdout",
     "output_type": "stream",
     "text": [
      "Mounted at /content/mydrive/\n"
     ]
    }
   ],
   "source": [
    "# from google.colab import drive\n",
    "# drive.mount(\"/content/mydrive/\", force_remount=True)"
   ]
  },
  {
   "cell_type": "code",
   "execution_count": null,
   "metadata": {
    "id": "1EcpBrrKHEcM"
   },
   "outputs": [],
   "source": [
    "# !cp -r /content/mydrive/MyDrive/projet_vision/biomed/malaria.zip /content/"
   ]
  },
  {
   "cell_type": "code",
   "execution_count": null,
   "metadata": {
    "colab": {
     "background_save": true
    },
    "id": "1YutGErxHf-e"
   },
   "outputs": [],
   "source": [
    "!unzip malaria.zip"
   ]
  },
  {
   "cell_type": "code",
   "execution_count": null,
   "metadata": {
    "colab": {
     "background_save": true
    },
    "id": "SJg_QVMwJ_VR"
   },
   "outputs": [],
   "source": [
    "!pip install keras_vggface"
   ]
  },
  {
   "cell_type": "code",
   "execution_count": 1,
   "metadata": {
    "colab": {
     "background_save": true
    },
    "id": "iXCvLr8XGvYc"
   },
   "outputs": [],
   "source": [
    "from __future__ import division\n",
    "from __future__ import print_function\n",
    "from __future__ import absolute_import\n",
    "import random\n",
    "import pprint\n",
    "import sys\n",
    "import time\n",
    "import numpy as np\n",
    "from optparse import OptionParser\n",
    "import pickle\n",
    "import math\n",
    "import cv2\n",
    "import copy\n",
    "from matplotlib import pyplot as plt\n",
    "import tensorflow as tf\n",
    "import pandas as pd\n",
    "import os\n",
    "import itertools"
   ]
  },
  {
   "cell_type": "code",
   "execution_count": 2,
   "metadata": {
    "id": "giSC7Z3zJZqB"
   },
   "outputs": [],
   "source": [
    "from sklearn.metrics import average_precision_score\n",
    "\n",
    "from tensorflow.keras import backend as K\n",
    "from tensorflow.keras.optimizers import Adam, SGD, RMSprop\n",
    "from tensorflow.keras.layers import Flatten, Dense, Input, Conv2D, MaxPooling2D, Dropout\n",
    "from tensorflow.keras.layers import GlobalAveragePooling2D, GlobalMaxPooling2D, TimeDistributed\n",
    "from tensorflow.keras.utils import get_source_inputs\n",
    "from tensorflow.python.keras.utils import layer_utils\n",
    "from tensorflow.python.keras.utils.data_utils import get_file\n",
    "from tensorflow.keras.metrics import categorical_crossentropy\n",
    "\n",
    "from tensorflow.keras.models import Model\n",
    "from tensorflow.python.keras.utils import generic_utils\n",
    "from tensorflow.keras.layers import Layer, InputSpec\n",
    "from tensorflow.keras import initializers, regularizers"
   ]
  },
  {
   "cell_type": "code",
   "execution_count": 3,
   "metadata": {
    "id": "eZcAVUl_NboO"
   },
   "outputs": [],
   "source": [
    "lambda_rpn_regr = 1.0\n",
    "lambda_rpn_class = 1.0\n",
    "\n",
    "lambda_cls_regr = 1.0\n",
    "lambda_cls_class = 1.0\n",
    "\n",
    "epsilon = 1e-4"
   ]
  },
  {
   "cell_type": "code",
   "execution_count": 4,
   "metadata": {
    "colab": {
     "background_save": true
    },
    "id": "oZ57ix-0BlTW",
    "outputId": "81c63874-f366-4aa9-b02a-9138a2ff00d2"
   },
   "outputs": [],
   "source": [
    "!wget https://github.com/fchollet/deep-learning-models/releases/download/v0.1/vgg16_weights_tf_dim_ordering_tf_kernels.h5"
   ]
  },
  {
   "cell_type": "code",
   "execution_count": 5,
   "metadata": {},
   "outputs": [],
   "source": [
    "# from utils import Config, union, intersection, iou, calc_rpn, calc_iou, rpn_loss_regr, rpn_loss_cls, class_loss_regr, class_loss_cls, non_max_suppression_fast\n",
    "from utils import *\n",
    "from model import *\n",
    "from dataprep import *"
   ]
  },
  {
   "cell_type": "code",
   "execution_count": 6,
   "metadata": {
    "colab": {
     "background_save": true
    },
    "id": "2UlR0dLKNtoc"
   },
   "outputs": [],
   "source": [
    "base_path = '/content/'\n",
    "\n",
    "train_path =  base_path + 'malaria/training.json' # Training data (annotation file)\n",
    "test_path = base_path + 'malaria/test.json' # Test data (annotation file)\n",
    "num_rois = 4\n",
    "\n",
    "# Augmentation flag\n",
    "horizontal_flips = True # Augment with horizontal flips in training. \n",
    "vertical_flips = True   # Augment with vertical flips in training. \n",
    "rot_90 = True           # Augment with 90 degree rotations in training. \n",
    "\n",
    "output_weight_path = os.path.join(base_path, 'model_frcnn_vgg.hdf5')\n",
    "\n",
    "record_path = os.path.join(base_path, 'record.csv')\n",
    "\n",
    "base_weight_path = os.path.join(base_path, 'vgg16_weights_tf_dim_ordering_tf_kernels.h5')\n",
    "\n",
    "config_output_filename = os.path.join(base_path, 'model_vgg_config.pickle')"
   ]
  },
  {
   "cell_type": "code",
   "execution_count": 7,
   "metadata": {
    "colab": {
     "background_save": true
    },
    "id": "jZ9c3HR5USVT"
   },
   "outputs": [],
   "source": [
    "# Create the config\n",
    "C = Config()\n",
    "\n",
    "C.use_horizontal_flips = horizontal_flips\n",
    "C.use_vertical_flips = vertical_flips\n",
    "C.rot_90 = rot_90\n",
    "\n",
    "C.record_path = record_path\n",
    "C.model_path = output_weight_path\n",
    "C.num_rois = num_rois\n",
    "\n",
    "C.base_net_weights = base_weight_path"
   ]
  },
  {
   "cell_type": "code",
   "execution_count": 9,
   "metadata": {
    "id": "gindi29uUdvQ"
   },
   "outputs": [
    {
     "name": "stdout",
     "output_type": "stream",
     "text": [
      "Parsing annotation files\n",
      "Parsing annotation files\n",
      "\n",
      "Spend 1.35 mins to load the data\n"
     ]
    }
   ],
   "source": [
    "#--------------------------------------------------------#\n",
    "# This step will spend some time to load the data        #\n",
    "#--------------------------------------------------------#\n",
    "st = time.time()\n",
    "train_imgs, classes_count, class_mapping = get_data(train_path)\n",
    "test_imgs, classes_count_test, class_mapping_test = get_data(test_path)\n",
    "print()\n",
    "print('Spend %0.2f mins to load the data' % ((time.time()-st)/60) )"
   ]
  },
  {
   "cell_type": "code",
   "execution_count": 10,
   "metadata": {
    "colab": {
     "background_save": true,
     "base_uri": "https://localhost:8080/",
     "height": 166
    },
    "id": "ZXgbecf_zLJw",
    "outputId": "db8faf1e-d92d-4c8b-a6f3-247e92b719af"
   },
   "outputs": [
    {
     "data": {
      "text/plain": [
       "{'red blood cell': 0,\n",
       " 'trophozoite': 1,\n",
       " 'schizont': 2,\n",
       " 'difficult': 3,\n",
       " 'ring': 4,\n",
       " 'leukocyte': 5,\n",
       " 'gametocyte': 6}"
      ]
     },
     "execution_count": 10,
     "metadata": {},
     "output_type": "execute_result"
    }
   ],
   "source": [
    "class_mapping"
   ]
  },
  {
   "cell_type": "code",
   "execution_count": 11,
   "metadata": {
    "colab": {
     "base_uri": "https://localhost:8080/"
    },
    "id": "F5RnPinHvQox",
    "outputId": "cf40b891-c73f-4851-b6ee-40a500b8071b"
   },
   "outputs": [
    {
     "name": "stdout",
     "output_type": "stream",
     "text": [
      "Training images per class:\n",
      "{'bg': 0,\n",
      " 'difficult': 441,\n",
      " 'gametocyte': 144,\n",
      " 'leukocyte': 103,\n",
      " 'red blood cell': 77420,\n",
      " 'ring': 353,\n",
      " 'schizont': 179,\n",
      " 'trophozoite': 1473}\n",
      "Num classes (including bg) = 8\n",
      "{'red blood cell': 0, 'trophozoite': 1, 'schizont': 2, 'difficult': 3, 'ring': 4, 'leukocyte': 5, 'gametocyte': 6, 'bg': 7}\n",
      "Config has been written to /Users/ouail/Documents/biomed/model_vgg_config.pickle, and can be loaded when testing to ensure correct results\n"
     ]
    }
   ],
   "source": [
    "if 'bg' not in classes_count:\n",
    "\tclasses_count['bg'] = 0\n",
    "\tclass_mapping['bg'] = len(class_mapping)\n",
    "\n",
    "C.class_mapping = class_mapping\n",
    "\n",
    "print('Training images per class:')\n",
    "pprint.pprint(classes_count)\n",
    "print('Num classes (including bg) = {}'.format(len(classes_count)))\n",
    "print(class_mapping)\n",
    "\n",
    "# Save the configuration\n",
    "with open(config_output_filename, 'wb') as config_f:\n",
    "\tpickle.dump(C,config_f)\n",
    "\tprint('Config has been written to {}, and can be loaded when testing to ensure correct results'.format(config_output_filename))"
   ]
  },
  {
   "cell_type": "code",
   "execution_count": null,
   "metadata": {
    "colab": {
     "base_uri": "https://localhost:8080/"
    },
    "id": "SuHKFH6mvUYU",
    "outputId": "873e04b3-c002-493f-e76f-6b96f3a6472d"
   },
   "outputs": [],
   "source": [
    "# Shuffle the images with seed\n",
    "random.seed(1)\n",
    "random.shuffle(train_imgs)\n",
    "\n",
    "print('Num train samples (images) {}'.format(len(train_imgs)))"
   ]
  },
  {
   "cell_type": "code",
   "execution_count": 12,
   "metadata": {
    "id": "UFlDelDFva_N"
   },
   "outputs": [],
   "source": [
    "# Get train data generator which generate X, Y, image_data\n",
    "data_gen_train = get_anchor_gt(train_imgs, C, get_img_output_length, mode='train')\n",
    "# Get test data generator which generate X, Y, image_data\n",
    "data_gen_test = get_anchor_gt(test_imgs, C, get_img_output_length, mode='test')"
   ]
  },
  {
   "cell_type": "code",
   "execution_count": 14,
   "metadata": {
    "id": "vUmsIel1vbD6"
   },
   "outputs": [
    {
     "ename": "KeyboardInterrupt",
     "evalue": "",
     "output_type": "error",
     "traceback": [
      "\u001b[0;31m---------------------------------------------------------------------------\u001b[0m",
      "\u001b[0;31mKeyboardInterrupt\u001b[0m                         Traceback (most recent call last)",
      "\u001b[0;32m<ipython-input-14-f1c97497a9ee>\u001b[0m in \u001b[0;36m<module>\u001b[0;34m\u001b[0m\n\u001b[1;32m      1\u001b[0m \u001b[0;31m# X, Y, image_data, debug_img, debug_num_pos = next(itertools.islice(data_gen_test, 10, None))\u001b[0m\u001b[0;34m\u001b[0m\u001b[0;34m\u001b[0m\u001b[0m\n\u001b[0;32m----> 2\u001b[0;31m \u001b[0mX\u001b[0m\u001b[0;34m,\u001b[0m \u001b[0mY\u001b[0m\u001b[0;34m,\u001b[0m \u001b[0mimage_data\u001b[0m\u001b[0;34m,\u001b[0m \u001b[0mdebug_img\u001b[0m\u001b[0;34m,\u001b[0m \u001b[0mdebug_num_pos\u001b[0m \u001b[0;34m=\u001b[0m \u001b[0mnext\u001b[0m\u001b[0;34m(\u001b[0m\u001b[0mdata_gen_train\u001b[0m\u001b[0;34m)\u001b[0m\u001b[0;34m\u001b[0m\u001b[0;34m\u001b[0m\u001b[0m\n\u001b[0m",
      "\u001b[0;32m~/Documents/biomed/dataprep.py\u001b[0m in \u001b[0;36mget_anchor_gt\u001b[0;34m(all_img_data, C, img_length_calc_function, mode)\u001b[0m\n\u001b[1;32m    206\u001b[0m \u001b[0;34m\u001b[0m\u001b[0m\n\u001b[1;32m    207\u001b[0m                                 \u001b[0;32mif\u001b[0m \u001b[0mmode\u001b[0m \u001b[0;34m==\u001b[0m \u001b[0;34m'train'\u001b[0m\u001b[0;34m:\u001b[0m\u001b[0;34m\u001b[0m\u001b[0;34m\u001b[0m\u001b[0m\n\u001b[0;32m--> 208\u001b[0;31m                                         \u001b[0mimg_data_aug\u001b[0m\u001b[0;34m,\u001b[0m \u001b[0mx_img\u001b[0m \u001b[0;34m=\u001b[0m \u001b[0maugment\u001b[0m\u001b[0;34m(\u001b[0m\u001b[0mimg_data\u001b[0m\u001b[0;34m,\u001b[0m \u001b[0mC\u001b[0m\u001b[0;34m,\u001b[0m \u001b[0maugment\u001b[0m\u001b[0;34m=\u001b[0m\u001b[0;32mTrue\u001b[0m\u001b[0;34m)\u001b[0m\u001b[0;34m\u001b[0m\u001b[0;34m\u001b[0m\u001b[0m\n\u001b[0m\u001b[1;32m    209\u001b[0m                                 \u001b[0;32melse\u001b[0m\u001b[0;34m:\u001b[0m\u001b[0;34m\u001b[0m\u001b[0;34m\u001b[0m\u001b[0m\n\u001b[1;32m    210\u001b[0m                                         \u001b[0mimg_data_aug\u001b[0m\u001b[0;34m,\u001b[0m \u001b[0mx_img\u001b[0m \u001b[0;34m=\u001b[0m \u001b[0maugment\u001b[0m\u001b[0;34m(\u001b[0m\u001b[0mimg_data\u001b[0m\u001b[0;34m,\u001b[0m \u001b[0mC\u001b[0m\u001b[0;34m,\u001b[0m \u001b[0maugment\u001b[0m\u001b[0;34m=\u001b[0m\u001b[0;32mFalse\u001b[0m\u001b[0;34m)\u001b[0m\u001b[0;34m\u001b[0m\u001b[0;34m\u001b[0m\u001b[0m\n",
      "\u001b[0;32m~/Documents/biomed/dataprep.py\u001b[0m in \u001b[0;36maugment\u001b[0;34m(img_data, config, augment)\u001b[0m\n\u001b[1;32m    117\u001b[0m         \u001b[0mimg_data_aug\u001b[0m \u001b[0;34m=\u001b[0m \u001b[0mcopy\u001b[0m\u001b[0;34m.\u001b[0m\u001b[0mdeepcopy\u001b[0m\u001b[0;34m(\u001b[0m\u001b[0mimg_data\u001b[0m\u001b[0;34m)\u001b[0m\u001b[0;34m\u001b[0m\u001b[0;34m\u001b[0m\u001b[0m\n\u001b[1;32m    118\u001b[0m \u001b[0;34m\u001b[0m\u001b[0m\n\u001b[0;32m--> 119\u001b[0;31m         \u001b[0mimg\u001b[0m \u001b[0;34m=\u001b[0m \u001b[0mcv2\u001b[0m\u001b[0;34m.\u001b[0m\u001b[0mimread\u001b[0m\u001b[0;34m(\u001b[0m\u001b[0;34m'malaria'\u001b[0m \u001b[0;34m+\u001b[0m \u001b[0mimg_data_aug\u001b[0m\u001b[0;34m[\u001b[0m\u001b[0;34m'filepath'\u001b[0m\u001b[0;34m]\u001b[0m\u001b[0;34m)\u001b[0m\u001b[0;34m\u001b[0m\u001b[0;34m\u001b[0m\u001b[0m\n\u001b[0m\u001b[1;32m    120\u001b[0m \u001b[0;34m\u001b[0m\u001b[0m\n\u001b[1;32m    121\u001b[0m         \u001b[0;32mif\u001b[0m \u001b[0maugment\u001b[0m\u001b[0;34m:\u001b[0m\u001b[0;34m\u001b[0m\u001b[0;34m\u001b[0m\u001b[0m\n",
      "\u001b[0;31mKeyboardInterrupt\u001b[0m: "
     ]
    }
   ],
   "source": [
    "# X, Y, image_data, debug_img, debug_num_pos = next(itertools.islice(data_gen_test, 10, None))\n",
    "X, Y, image_data, debug_img, debug_num_pos = next(data_gen_train)"
   ]
  },
  {
   "cell_type": "code",
   "execution_count": null,
   "metadata": {
    "colab": {
     "base_uri": "https://localhost:8080/",
     "height": 1000
    },
    "id": "Kc7PI1bavbLb",
    "outputId": "d083503d-de40-4902-fd46-efdc348e1599"
   },
   "outputs": [],
   "source": [
    "print('Original image: height=%d width=%d'%(image_data['height'], image_data['width']))\n",
    "print('Resized image:  height=%d width=%d C.im_size=%d'%(X.shape[1], X.shape[2], C.im_size))\n",
    "print('Feature map size: height=%d width=%d C.rpn_stride=%d'%(Y[0].shape[1], Y[0].shape[2], C.rpn_stride))\n",
    "print(X.shape)\n",
    "print(str(len(Y))+\" includes 'y_rpn_cls' and 'y_rpn_regr'\")\n",
    "print('Shape of y_rpn_cls {}'.format(Y[0].shape))\n",
    "print('Shape of y_rpn_regr {}'.format(Y[1].shape))\n",
    "# print(image_data)\n",
    "\n",
    "print('Number of positive anchors for this image: %d' % (debug_num_pos))\n",
    "if debug_num_pos==0:\n",
    "    gt_x1, gt_x2 = image_data['bboxes'][0]['x1']*(X.shape[2]/image_data['height']), image_data['bboxes'][0]['x2']*(X.shape[2]/image_data['height'])\n",
    "    gt_y1, gt_y2 = image_data['bboxes'][0]['y1']*(X.shape[1]/image_data['width']), image_data['bboxes'][0]['y2']*(X.shape[1]/image_data['width'])\n",
    "    gt_x1, gt_y1, gt_x2, gt_y2 = int(gt_x1), int(gt_y1), int(gt_x2), int(gt_y2)\n",
    "\n",
    "    img = debug_img.copy()\n",
    "    img = cv2.cvtColor(img, cv2.COLOR_BGR2RGB)\n",
    "    color = (0, 255, 0)\n",
    "    cv2.putText(img, 'gt bbox', (gt_x1, gt_y1-5), cv2.FONT_HERSHEY_DUPLEX, 0.7, color, 1)\n",
    "    cv2.rectangle(img, (gt_x1, gt_y1), (gt_x2, gt_y2), color, 2)\n",
    "    cv2.circle(img, (int((gt_x1+gt_x2)/2), int((gt_y1+gt_y2)/2)), 3, color, -1)\n",
    "\n",
    "    plt.grid()\n",
    "    plt.imshow(img)\n",
    "    plt.show()\n",
    "else:\n",
    "    cls = Y[0][0]\n",
    "    pos_cls = np.where(cls==1)\n",
    "    print(pos_cls)\n",
    "    regr = Y[1][0]\n",
    "    pos_regr = np.where(regr==1)\n",
    "    print(pos_regr)\n",
    "    print('y_rpn_cls for possible pos anchor: {}'.format(cls[pos_cls[0][0],pos_cls[1][0],:]))\n",
    "    print('y_rpn_regr for positive anchor: {}'.format(regr[pos_regr[0][0],pos_regr[1][0],:]))\n",
    "\n",
    "    gt_x1, gt_x2 = image_data['bboxes'][0]['x1']*(X.shape[2]/image_data['width']), image_data['bboxes'][0]['x2']*(X.shape[2]/image_data['width'])\n",
    "    gt_y1, gt_y2 = image_data['bboxes'][0]['y1']*(X.shape[1]/image_data['height']), image_data['bboxes'][0]['y2']*(X.shape[1]/image_data['height'])\n",
    "    gt_x1, gt_y1, gt_x2, gt_y2 = int(gt_x1), int(gt_y1), int(gt_x2), int(gt_y2)\n",
    "\n",
    "    img = debug_img.copy()\n",
    "    img = cv2.cvtColor(img, cv2.COLOR_BGR2RGB)\n",
    "    color = (0, 255, 0)\n",
    "    #   cv2.putText(img, 'gt bbox', (gt_x1, gt_y1-5), cv2.FONT_HERSHEY_DUPLEX, 0.7, color, 1)\n",
    "    cv2.rectangle(img, (gt_x1, gt_y1), (gt_x2, gt_y2), color, 2)\n",
    "    cv2.circle(img, (int((gt_x1+gt_x2)/2), int((gt_y1+gt_y2)/2)), 3, color, -1)\n",
    "\n",
    "    # Add text\n",
    "    textLabel = 'gt bbox'\n",
    "    (retval,baseLine) = cv2.getTextSize(textLabel,cv2.FONT_HERSHEY_COMPLEX,0.5,1)\n",
    "    textOrg = (gt_x1, gt_y1+5)\n",
    "    cv2.rectangle(img, (textOrg[0] - 5, textOrg[1]+baseLine - 5), (textOrg[0]+retval[0] + 5, textOrg[1]-retval[1] - 5), (0, 0, 0), 2)\n",
    "    cv2.rectangle(img, (textOrg[0] - 5,textOrg[1]+baseLine - 5), (textOrg[0]+retval[0] + 5, textOrg[1]-retval[1] - 5), (255, 255, 255), -1)\n",
    "    cv2.putText(img, textLabel, textOrg, cv2.FONT_HERSHEY_DUPLEX, 0.5, (0, 0, 0), 1)\n",
    "\n",
    "    # Draw positive anchors according to the y_rpn_regr\n",
    "    for i in range(debug_num_pos):\n",
    "\n",
    "        color = (100+i*(155/4), 0, 100+i*(155/4))\n",
    "\n",
    "        idx = pos_regr[2][i*4]/4\n",
    "        anchor_size = C.anchor_box_scales[int(idx/3)]\n",
    "        anchor_ratio = C.anchor_box_ratios[2-int((idx+1)%3)]\n",
    "\n",
    "        center = (pos_regr[1][i*4]*C.rpn_stride, pos_regr[0][i*4]*C.rpn_stride)\n",
    "        print('Center position of positive anchor: ', center)\n",
    "        cv2.circle(img, center, 3, color, -1)\n",
    "        anc_w, anc_h = anchor_size*anchor_ratio[0], anchor_size*anchor_ratio[1]\n",
    "        cv2.rectangle(img, (center[0]-int(anc_w/2), center[1]-int(anc_h/2)), (center[0]+int(anc_w/2), center[1]+int(anc_h/2)), color, 2)\n",
    "#         cv2.putText(img, 'pos anchor bbox '+str(i+1), (center[0]-int(anc_w/2), center[1]-int(anc_h/2)-5), cv2.FONT_HERSHEY_DUPLEX, 0.5, color, 1)\n",
    "\n",
    "print('Green bboxes is ground-truth bbox. Others are positive anchors')\n",
    "plt.figure(figsize=(8,8))\n",
    "plt.grid()\n",
    "plt.imshow(img)\n",
    "plt.show()"
   ]
  },
  {
   "cell_type": "code",
   "execution_count": null,
   "metadata": {
    "id": "P8AmeSNU_eYg"
   },
   "outputs": [],
   "source": [
    "input_shape_img = (None, None, 3)\n",
    "\n",
    "img_input = Input(shape=input_shape_img)\n",
    "roi_input = Input(shape=(None, 4))\n",
    "\n",
    "# define the base network (VGG here, can be Resnet50, Inception, etc)\n",
    "shared_layers = nn_base(img_input, trainable=True)"
   ]
  },
  {
   "cell_type": "code",
   "execution_count": null,
   "metadata": {
    "colab": {
     "base_uri": "https://localhost:8080/"
    },
    "id": "wNgQ0V_9_euH",
    "outputId": "f92036b8-9a27-4d30-df1f-fd78df7e1e2e"
   },
   "outputs": [],
   "source": [
    "# define the RPN, built on the base layers\n",
    "num_anchors = len(C.anchor_box_scales) * len(C.anchor_box_ratios) # 9\n",
    "rpn = rpn_layer(shared_layers, num_anchors)\n",
    "\n",
    "classifier = classifier_layer(shared_layers, roi_input, C.num_rois, nb_classes=len(classes_count))\n",
    "\n",
    "model_rpn = Model(img_input, rpn[:2])\n",
    "model_classifier = Model([img_input, roi_input], classifier)\n",
    "\n",
    "# this is a model that holds both the RPN and the classifier, used to load/save weights for the models\n",
    "model_all = Model([img_input, roi_input], rpn[:2] + classifier)\n",
    "\n",
    "# save the model and load the model to continue training\n",
    "if not os.path.isfile(C.model_path):\n",
    "    #If this is the begin of the training, load the pre-traind base network such as vgg-16\n",
    "    try:\n",
    "        print('This is the first time of your training')\n",
    "        print('loading weights from {}'.format(C.base_net_weights))\n",
    "        model_rpn.load_weights(C.base_net_weights, by_name=True)\n",
    "        model_classifier.load_weights(C.base_net_weights, by_name=True)\n",
    "    except:\n",
    "        print('Could not load pretrained model weights. Weights can be found in the keras application folder \\\n",
    "            https://github.com/fchollet/keras/tree/master/keras/applications')\n",
    "    \n",
    "    # Create the record.csv file to record losses, acc and mAP\n",
    "    record_df = pd.DataFrame(columns=['mean_overlapping_bboxes', 'class_acc', 'loss_rpn_cls', 'loss_rpn_regr', 'loss_class_cls', 'loss_class_regr', 'curr_loss', 'elapsed_time', 'mAP'])\n",
    "else:\n",
    "    # If this is a continued training, load the trained model from before\n",
    "    print('Continue training based on previous trained model')\n",
    "    print('Loading weights from {}'.format(C.model_path))\n",
    "    model_rpn.load_weights(C.model_path, by_name=True)\n",
    "    model_classifier.load_weights(C.model_path, by_name=True)\n",
    "    \n",
    "    # Load the records\n",
    "    record_df = pd.read_csv(record_path)\n",
    "\n",
    "    r_mean_overlapping_bboxes = record_df['mean_overlapping_bboxes']\n",
    "    r_class_acc = record_df['class_acc']\n",
    "    r_loss_rpn_cls = record_df['loss_rpn_cls']\n",
    "    r_loss_rpn_regr = record_df['loss_rpn_regr']\n",
    "    r_loss_class_cls = record_df['loss_class_cls']\n",
    "    r_loss_class_regr = record_df['loss_class_regr']\n",
    "    r_curr_loss = record_df['curr_loss']\n",
    "    r_elapsed_time = record_df['elapsed_time']\n",
    "    r_mAP = record_df['mAP']\n",
    "\n",
    "    print('Already train %dK batches'% (len(record_df)))"
   ]
  },
  {
   "cell_type": "code",
   "execution_count": null,
   "metadata": {
    "colab": {
     "base_uri": "https://localhost:8080/"
    },
    "id": "_n4--eNt_lV8",
    "outputId": "2e44f1d6-8481-45aa-bbbd-0f5fecf2c55a"
   },
   "outputs": [],
   "source": [
    "optimizer = Adam(lr=1e-5)\n",
    "optimizer_classifier = Adam(lr=1e-5)\n",
    "model_rpn.compile(optimizer=optimizer, loss=[rpn_loss_cls(num_anchors), rpn_loss_regr(num_anchors)])\n",
    "model_classifier.compile(optimizer=optimizer_classifier, loss=[class_loss_cls, class_loss_regr(len(classes_count)-1)], metrics={'dense_class_{}'.format(len(classes_count)): 'accuracy'})\n",
    "model_all.compile(optimizer='sgd', loss='mae')"
   ]
  },
  {
   "cell_type": "code",
   "execution_count": 31,
   "metadata": {
    "id": "dPu2PnR1ClyQ"
   },
   "outputs": [],
   "source": [
    "# Training setting\n",
    "total_epochs = len(record_df)\n",
    "r_epochs = len(record_df)\n",
    "\n",
    "epoch_length = len(train_imgs)\n",
    "num_epochs = 20\n",
    "iter_num = 0\n",
    "\n",
    "total_epochs += num_epochs\n",
    "\n",
    "losses = np.zeros((epoch_length, 5))\n",
    "rpn_accuracy_rpn_monitor = []\n",
    "rpn_accuracy_for_epoch = []\n",
    "\n",
    "if len(record_df)==0:\n",
    "    best_loss = np.Inf\n",
    "else:\n",
    "    best_loss = np.min(r_curr_loss)"
   ]
  },
  {
   "cell_type": "code",
   "execution_count": 32,
   "metadata": {
    "colab": {
     "base_uri": "https://localhost:8080/"
    },
    "id": "KRU-eOklCl1B",
    "outputId": "46b754c1-2c63-4079-9d0f-edafed3f511c"
   },
   "outputs": [
    {
     "name": "stdout",
     "output_type": "stream",
     "text": [
      "12\n"
     ]
    }
   ],
   "source": [
    "print(len(record_df))"
   ]
  },
  {
   "cell_type": "code",
   "execution_count": null,
   "metadata": {},
   "outputs": [
    {
     "name": "stdout",
     "output_type": "stream",
     "text": [
      "Epoch 13/32\n",
      "1208/1208 [==============================] - 2026s 2s/step - rpn_cls: 0.1279 - rpn_regr: 0.0462 - final_cls: 0.3064 - final_regr: 0.0511\n",
      "Mean number of bounding boxes from RPN overlapping ground truth boxes: 30.290562913907284\n",
      "Classifier accuracy for bounding boxes from RPN: 0.8932119205298014\n",
      "Loss RPN classifier: 0.13031249885393845\n",
      "Loss RPN regression: 0.045620779189225656\n",
      "Loss Detector classifier: 0.2914491459150728\n",
      "Loss Detector regression: 0.05426095423162591\n",
      "Total loss: 0.5216433781898628\n",
      "Elapsed time: 2026.369961977005\n",
      "Epoch 14/32\n",
      "1208/1208 [==============================] - 2063s 2s/step - rpn_cls: 0.1261 - rpn_regr: 0.0448 - final_cls: 0.2889 - final_regr: 0.0588\n",
      "Mean number of bounding boxes from RPN overlapping ground truth boxes: 29.935430463576157\n",
      "Classifier accuracy for bounding boxes from RPN: 0.8909354304635762\n",
      "Loss RPN classifier: 0.12640658670279534\n",
      "Loss RPN regression: 0.04445325507433925\n",
      "Loss Detector classifier: 0.2927131524818062\n",
      "Loss Detector regression: 0.056730415421766066\n",
      "Total loss: 0.5203034096807069\n",
      "Elapsed time: 2062.830181121826\n",
      "Total loss decreased from 0.521 to 0.5203034096807069, saving weights\n",
      "Epoch 15/32\n",
      "1208/1208 [==============================] - 2104s 2s/step - rpn_cls: 0.1233 - rpn_regr: 0.0444 - final_cls: 0.2822 - final_regr: 0.0468\n",
      "Mean number of bounding boxes from RPN overlapping ground truth boxes: 30.485099337748345\n",
      "Classifier accuracy for bounding boxes from RPN: 0.8985927152317881\n",
      "Loss RPN classifier: 0.12077772243570606\n",
      "Loss RPN regression: 0.04376952391116269\n",
      "Loss Detector classifier: 0.27673836695487125\n",
      "Loss Detector regression: 0.05025579496483887\n",
      "Total loss: 0.4915414082665789\n",
      "Elapsed time: 2105.0360720157623\n",
      "Total loss decreased from 0.5203034096807069 to 0.4915414082665789, saving weights\n",
      "Epoch 16/32\n",
      "1208/1208 [==============================] - 2100s 2s/step - rpn_cls: 0.1112 - rpn_regr: 0.0427 - final_cls: 0.2510 - final_regr: 0.0487\n",
      "Mean number of bounding boxes from RPN overlapping ground truth boxes: 30.16390728476821\n",
      "Classifier accuracy for bounding boxes from RPN: 0.9019039735099338\n",
      "Loss RPN classifier: 0.11413700569671165\n",
      "Loss RPN regression: 0.04246359703359225\n",
      "Loss Detector classifier: 0.2569331767390515\n",
      "Loss Detector regression: 0.04778997879027233\n",
      "Total loss: 0.4613237582596278\n",
      "Elapsed time: 2101.01221203804\n",
      "Total loss decreased from 0.4915414082665789 to 0.4613237582596278, saving weights\n",
      "Epoch 17/32\n",
      "1208/1208 [==============================] - 2114s 2s/step - rpn_cls: 0.1224 - rpn_regr: 0.0424 - final_cls: 0.2808 - final_regr: 0.0575\n",
      "Mean number of bounding boxes from RPN overlapping ground truth boxes: 30.042218543046356\n",
      "Classifier accuracy for bounding boxes from RPN: 0.8987996688741722\n",
      "Loss RPN classifier: 0.11253355751004306\n",
      "Loss RPN regression: 0.04179407890989377\n",
      "Loss Detector classifier: 0.273978532896817\n",
      "Loss Detector regression: 0.055528667597666795\n",
      "Total loss: 0.4838348369144206\n",
      "Elapsed time: 2114.7754549980164\n",
      "Epoch 18/32\n",
      "1208/1208 [==============================] - 2119s 2s/step - rpn_cls: 0.1133 - rpn_regr: 0.0409 - final_cls: 0.2579 - final_regr: 0.0505\n",
      "Mean number of bounding boxes from RPN overlapping ground truth boxes: 30.509933774834437\n",
      "Classifier accuracy for bounding boxes from RPN: 0.9014900662251656\n",
      "Loss RPN classifier: 0.11053461096823551\n",
      "Loss RPN regression: 0.0405923813328591\n",
      "Loss Detector classifier: 0.26100544399308256\n",
      "Loss Detector regression: 0.050973431963698294\n",
      "Total loss: 0.4631058682578755\n",
      "Elapsed time: 2119.418660879135\n",
      "Epoch 19/32\n",
      "1208/1208 [==============================] - 2114s 2s/step - rpn_cls: 0.1125 - rpn_regr: 0.0405 - final_cls: 0.2653 - final_regr: 0.0623\n",
      "Mean number of bounding boxes from RPN overlapping ground truth boxes: 30.406456953642383\n",
      "Classifier accuracy for bounding boxes from RPN: 0.9010761589403974\n",
      "Loss RPN classifier: 0.10706231026337946\n",
      "Loss RPN regression: 0.039984010498421825\n",
      "Loss Detector classifier: 0.2738503299339652\n",
      "Loss Detector regression: 0.05827561647932674\n",
      "Total loss: 0.4791722671750932\n",
      "Elapsed time: 2114.0064811706543\n",
      "Epoch 20/32\n",
      "1208/1208 [==============================] - 2135s 2s/step - rpn_cls: 0.1085 - rpn_regr: 0.0397 - final_cls: 0.2788 - final_regr: 0.0610\n",
      "Mean number of bounding boxes from RPN overlapping ground truth boxes: 30.364238410596027\n",
      "Classifier accuracy for bounding boxes from RPN: 0.8965231788079471\n",
      "Loss RPN classifier: 0.10917877076447915\n",
      "Loss RPN regression: 0.0390685255599165\n",
      "Loss Detector classifier: 0.27720107634090496\n",
      "Loss Detector regression: 0.05588396974569048\n",
      "Total loss: 0.4813323424109911\n",
      "Elapsed time: 2135.547643184662\n",
      "Epoch 21/32\n",
      "1208/1208 [==============================] - 2124s 2s/step - rpn_cls: 0.1011 - rpn_regr: 0.0382 - final_cls: 0.2229 - final_regr: 0.0518\n",
      "Mean number of bounding boxes from RPN overlapping ground truth boxes: 29.94288079470199\n",
      "Classifier accuracy for bounding boxes from RPN: 0.910182119205298\n",
      "Loss RPN classifier: 0.1053936916943007\n",
      "Loss RPN regression: 0.03828311203254251\n",
      "Loss Detector classifier: 0.24001409268156151\n",
      "Loss Detector regression: 0.052969188486297794\n",
      "Total loss: 0.4366600848947025\n",
      "Elapsed time: 2123.777813911438\n",
      "Total loss decreased from 0.4613237582596278 to 0.4366600848947025, saving weights\n",
      "Epoch 22/32\n",
      "1208/1208 [==============================] - 2144s 2s/step - rpn_cls: 0.1034 - rpn_regr: 0.0370 - final_cls: 0.2339 - final_regr: 0.0485\n",
      "Mean number of bounding boxes from RPN overlapping ground truth boxes: 30.178807947019866\n",
      "Classifier accuracy for bounding boxes from RPN: 0.9072847682119205\n",
      "Loss RPN classifier: 0.1029217654495904\n",
      "Loss RPN regression: 0.03701396429231267\n",
      "Loss Detector classifier: 0.24851003639286626\n",
      "Loss Detector regression: 0.054204489389970856\n",
      "Total loss: 0.4426502555247402\n",
      "Elapsed time: 2144.9275007247925\n",
      "Epoch 23/32\n",
      "1208/1208 [==============================] - 2171s 2s/step - rpn_cls: 0.1076 - rpn_regr: 0.0377 - final_cls: 0.2714 - final_regr: 0.0562\n",
      "Mean number of bounding boxes from RPN overlapping ground truth boxes: 30.100993377483444\n",
      "Classifier accuracy for bounding boxes from RPN: 0.902317880794702\n",
      "Loss RPN classifier: 0.10267781991243409\n",
      "Loss RPN regression: 0.03740099484034635\n",
      "Loss Detector classifier: 0.2653012875678373\n",
      "Loss Detector regression: 0.053343754190249434\n",
      "Total loss: 0.45872385651086717\n",
      "Elapsed time: 2170.994220972061\n",
      "Epoch 24/32\n",
      "1208/1208 [==============================] - 2180s 2s/step - rpn_cls: 0.1043 - rpn_regr: 0.0368 - final_cls: 0.2904 - final_regr: 0.0536\n",
      "Mean number of bounding boxes from RPN overlapping ground truth boxes: 30.22682119205298\n",
      "Classifier accuracy for bounding boxes from RPN: 0.9045943708609272\n",
      "Loss RPN classifier: 0.1031090393520238\n",
      "Loss RPN regression: 0.036352351452038925\n",
      "Loss Detector classifier: 0.2620156956971981\n",
      "Loss Detector regression: 0.051052153820825535\n",
      "Total loss: 0.4525292403220864\n",
      "Elapsed time: 2180.1300809383392\n",
      "Epoch 25/32\n",
      " 106/1208 [=>............................] - ETA: 35:01 - rpn_cls: 0.1047 - rpn_regr: 0.0378 - final_cls: 0.2308 - final_regr: 0.0595"
     ]
    }
   ],
   "source": [
    "start_time = time.time()\n",
    "for epoch_num in range(num_epochs):\n",
    "\n",
    "    progbar = generic_utils.Progbar(epoch_length)\n",
    "    print('Epoch {}/{}'.format(r_epochs + 1, total_epochs))\n",
    "    \n",
    "    r_epochs += 1\n",
    "\n",
    "    while True:\n",
    "        try:\n",
    "\n",
    "            if len(rpn_accuracy_rpn_monitor) == epoch_length and C.verbose:\n",
    "                mean_overlapping_bboxes = float(sum(rpn_accuracy_rpn_monitor))/len(rpn_accuracy_rpn_monitor)\n",
    "                rpn_accuracy_rpn_monitor = []\n",
    "#                 print('Average number of overlapping bounding boxes from RPN = {} for {} previous iterations'.format(mean_overlapping_bboxes, epoch_length))\n",
    "                if mean_overlapping_bboxes == 0:\n",
    "                    print('RPN is not producing bounding boxes that overlap the ground truth boxes. Check RPN settings or keep training.')\n",
    "\n",
    "            # Generate X (x_img) and label Y ([y_rpn_cls, y_rpn_regr])\n",
    "            X, Y, img_data, debug_img, debug_num_pos = next(data_gen_train)\n",
    "            # print('batch size = '+str(len(X)))\n",
    "            # Train rpn model and get loss value [_, loss_rpn_cls, loss_rpn_regr]\n",
    "            loss_rpn = model_rpn.train_on_batch(X, Y)\n",
    "\n",
    "            # Get predicted rpn from rpn model [rpn_cls, rpn_regr]\n",
    "            P_rpn = model_rpn.predict_on_batch(X)\n",
    "\n",
    "            # R: bboxes (shape=(300,4))\n",
    "            # Convert rpn layer to roi bboxes\n",
    "            R = rpn_to_roi(P_rpn[0], P_rpn[1], C, K.image_data_format(), use_regr=True, overlap_thresh=0.7, max_boxes=300)\n",
    "            \n",
    "            # note: calc_iou converts from (x1,y1,x2,y2) to (x,y,w,h) format\n",
    "            # X2: bboxes that iou > C.classifier_min_overlap for all gt bboxes in 300 non_max_suppression bboxes\n",
    "            # Y1: one hot code for bboxes from above => x_roi (X)\n",
    "            # Y2: corresponding labels and corresponding gt bboxes\n",
    "            X2, Y1, Y2, IouS = calc_iou(R, img_data, C, class_mapping)\n",
    "\n",
    "            # If X2 is None means there are no matching bboxes\n",
    "            if X2 is None:\n",
    "                rpn_accuracy_rpn_monitor.append(0)\n",
    "                rpn_accuracy_for_epoch.append(0)\n",
    "                continue\n",
    "            \n",
    "            # Find out the positive anchors and negative anchors\n",
    "            neg_samples = np.where(Y1[0, :, -1] == 1)\n",
    "            pos_samples = np.where(Y1[0, :, -1] == 0)\n",
    "\n",
    "            if len(neg_samples) > 0:\n",
    "                neg_samples = neg_samples[0]\n",
    "            else:\n",
    "                neg_samples = []\n",
    "\n",
    "            if len(pos_samples) > 0:\n",
    "                pos_samples = pos_samples[0]\n",
    "            else:\n",
    "                pos_samples = []\n",
    "\n",
    "            rpn_accuracy_rpn_monitor.append(len(pos_samples))\n",
    "            rpn_accuracy_for_epoch.append((len(pos_samples)))\n",
    "\n",
    "            if C.num_rois > 1:\n",
    "                # If number of positive anchors is larger than 4//2 = 2, randomly choose 2 pos samples\n",
    "                if len(pos_samples) < C.num_rois//2:\n",
    "                    selected_pos_samples = pos_samples.tolist()\n",
    "                else:\n",
    "                    selected_pos_samples = np.random.choice(pos_samples, C.num_rois//2, replace=False).tolist()\n",
    "                \n",
    "                # Randomly choose (num_rois - num_pos) neg samples\n",
    "                try:\n",
    "                    selected_neg_samples = np.random.choice(neg_samples, C.num_rois - len(selected_pos_samples), replace=False).tolist()\n",
    "                except:\n",
    "                    selected_neg_samples = np.random.choice(neg_samples, C.num_rois - len(selected_pos_samples), replace=True).tolist()\n",
    "                \n",
    "                # Save all the pos and neg samples in sel_samples\n",
    "                sel_samples = selected_pos_samples + selected_neg_samples\n",
    "            else:\n",
    "                # in the extreme case where num_rois = 1, we pick a random pos or neg sample\n",
    "                selected_pos_samples = pos_samples.tolist()\n",
    "                selected_neg_samples = neg_samples.tolist()\n",
    "                if np.random.randint(0, 2):\n",
    "                    sel_samples = random.choice(neg_samples)\n",
    "                else:\n",
    "                    sel_samples = random.choice(pos_samples)\n",
    "\n",
    "            # training_data: [X, X2[:, sel_samples, :]]\n",
    "            # labels: [Y1[:, sel_samples, :], Y2[:, sel_samples, :]]\n",
    "            #  X                     => img_data resized image\n",
    "            #  X2[:, sel_samples, :] => num_rois (4 in here) bboxes which contains selected neg and pos\n",
    "            #  Y1[:, sel_samples, :] => one hot encode for num_rois bboxes which contains selected neg and pos\n",
    "            #  Y2[:, sel_samples, :] => labels and gt bboxes for num_rois bboxes which contains selected neg and pos\n",
    "            loss_class = model_classifier.train_on_batch([X, X2[:, sel_samples, :]], [Y1[:, sel_samples, :], Y2[:, sel_samples, :]])\n",
    "\n",
    "            losses[iter_num, 0] = loss_rpn[1]\n",
    "            losses[iter_num, 1] = loss_rpn[2]\n",
    "\n",
    "            losses[iter_num, 2] = loss_class[1]\n",
    "            losses[iter_num, 3] = loss_class[2]\n",
    "            losses[iter_num, 4] = loss_class[3]\n",
    "\n",
    "            iter_num += 1\n",
    "\n",
    "            progbar.update(iter_num, [('rpn_cls', np.mean(losses[:iter_num, 0])), ('rpn_regr', np.mean(losses[:iter_num, 1])),\n",
    "                                      ('final_cls', np.mean(losses[:iter_num, 2])), ('final_regr', np.mean(losses[:iter_num, 3]))])\n",
    "\n",
    "            if iter_num == epoch_length:\n",
    "                loss_rpn_cls = np.mean(losses[:, 0])\n",
    "                loss_rpn_regr = np.mean(losses[:, 1])\n",
    "                loss_class_cls = np.mean(losses[:, 2])\n",
    "                loss_class_regr = np.mean(losses[:, 3])\n",
    "                class_acc = np.mean(losses[:, 4])\n",
    "\n",
    "                mean_overlapping_bboxes = float(sum(rpn_accuracy_for_epoch)) / len(rpn_accuracy_for_epoch)\n",
    "                rpn_accuracy_for_epoch = []\n",
    "\n",
    "                if C.verbose:\n",
    "                    print('Mean number of bounding boxes from RPN overlapping ground truth boxes: {}'.format(mean_overlapping_bboxes))\n",
    "                    print('Classifier accuracy for bounding boxes from RPN: {}'.format(class_acc))\n",
    "                    print('Loss RPN classifier: {}'.format(loss_rpn_cls))\n",
    "                    print('Loss RPN regression: {}'.format(loss_rpn_regr))\n",
    "                    print('Loss Detector classifier: {}'.format(loss_class_cls))\n",
    "                    print('Loss Detector regression: {}'.format(loss_class_regr))\n",
    "                    print('Total loss: {}'.format(loss_rpn_cls + loss_rpn_regr + loss_class_cls + loss_class_regr))\n",
    "                    print('Elapsed time: {}'.format(time.time() - start_time))\n",
    "                    elapsed_time = (time.time()-start_time)/60\n",
    "\n",
    "                curr_loss = loss_rpn_cls + loss_rpn_regr + loss_class_cls + loss_class_regr\n",
    "                iter_num = 0\n",
    "                start_time = time.time()\n",
    "\n",
    "                if curr_loss < best_loss:\n",
    "                    if C.verbose:\n",
    "                        print('Total loss decreased from {} to {}, saving weights'.format(best_loss,curr_loss))\n",
    "                    best_loss = curr_loss\n",
    "                    model_all.save_weights(C.model_path)\n",
    "\n",
    "                new_row = {'mean_overlapping_bboxes':round(mean_overlapping_bboxes, 3), \n",
    "                           'class_acc':round(class_acc, 3), \n",
    "                           'loss_rpn_cls':round(loss_rpn_cls, 3), \n",
    "                           'loss_rpn_regr':round(loss_rpn_regr, 3), \n",
    "                           'loss_class_cls':round(loss_class_cls, 3), \n",
    "                           'loss_class_regr':round(loss_class_regr, 3), \n",
    "                           'curr_loss':round(curr_loss, 3), \n",
    "                           'elapsed_time':round(elapsed_time, 3), \n",
    "                           'mAP': 0}\n",
    "\n",
    "                record_df = record_df.append(new_row, ignore_index=True)\n",
    "                record_df.to_csv(record_path, index=0)\n",
    "\n",
    "                break\n",
    "\n",
    "        except Exception as e:\n",
    "            print('Exception: {}'.format(e))\n",
    "            continue\n",
    "\n",
    "print('Training complete, exiting.')"
   ]
  },
  {
   "cell_type": "code",
   "execution_count": null,
   "metadata": {},
   "outputs": [],
   "source": [
    "epochs = [i for i in range(1,len(record_df)+1)]"
   ]
  },
  {
   "cell_type": "code",
   "execution_count": null,
   "metadata": {},
   "outputs": [
    {
     "data": {
      "image/png": "[encoded data removed]",
      "text/plain": [
       "<Figure size 432x288 with 1 Axes>"
      ]
     },
     "metadata": {
      "needs_background": "light"
     },
     "output_type": "display_data"
    }
   ],
   "source": [
    "plt.plot(epochs, record_df['curr_loss'], 'b', label='train loss')\n",
    "# plt.plot(epochs, record_df['class_acc'], 'g', label='accuracy')\n",
    "plt.title('loss curve ')\n",
    "plt.xlabel('Epochs')\n",
    "plt.ylabel('loss')\n",
    "plt.legend()\n",
    "plt.savefig('loss1.jpg', dpi=100)"
   ]
  },
  {
   "cell_type": "code",
   "execution_count": 11,
   "metadata": {},
   "outputs": [
    {
     "data": {
      "image/png": "[encoded data removed]",
      "text/plain": [
       "<Figure size 432x288 with 1 Axes>"
      ]
     },
     "metadata": {
      "needs_background": "light"
     },
     "output_type": "display_data"
    }
   ],
   "source": [
    "plt.plot(epochs, record_df['class_acc'], 'g', label='accuracy')\n",
    "# plt.plot(epochs, record_df['class_acc'], 'g', label='accuracy')\n",
    "plt.title('accuracy curve ')\n",
    "plt.xlabel('Epochs')\n",
    "plt.ylabel('accuray')\n",
    "plt.legend()\n",
    "plt.savefig('acc1.jpg', dpi=100)"
   ]
  },
  {
   "cell_type": "code",
   "execution_count": 12,
   "metadata": {},
   "outputs": [
    {
     "data": {
      "image/png": "[encoded data removed]",
      "text/plain": [
       "<Figure size 432x288 with 1 Axes>"
      ]
     },
     "metadata": {
      "needs_background": "light"
     },
     "output_type": "display_data"
    }
   ],
   "source": [
    "plt.plot(epochs, record_df['loss_class_cls'], 'b', label='cls loss')\n",
    "plt.plot(epochs, record_df['loss_rpn_cls'], 'g', label='rpn loss')\n",
    "plt.title('loss curve ')\n",
    "plt.xlabel('Epochs')\n",
    "plt.ylabel('loss')\n",
    "plt.legend()\n",
    "plt.savefig('loss_cls_cls.jpg', dpi=100)"
   ]
  },
  {
   "cell_type": "code",
   "execution_count": null,
   "metadata": {},
   "outputs": [],
   "source": []
  }
 ],
 "metadata": {
  "accelerator": "GPU",
  "colab": {
   "collapsed_sections": [],
   "name": "BioMed.ipynb",
   "provenance": []
  },
  "kernelspec": {
   "display_name": "Python 3",
   "language": "python",
   "name": "python3"
  },
  "language_info": {
   "codemirror_mode": {
    "name": "ipython",
    "version": 3
   },
   "file_extension": ".py",
   "mimetype": "text/x-python",
   "name": "python",
   "nbconvert_exporter": "python",
   "pygments_lexer": "ipython3",
   "version": "3.9.7"
  }
 },
 "nbformat": 4,
 "nbformat_minor": 4
}
